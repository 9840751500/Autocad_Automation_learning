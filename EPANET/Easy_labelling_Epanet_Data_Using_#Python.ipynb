{
 "cells": [
  {
   "cell_type": "markdown",
   "metadata": {},
   "source": [
    "<font face=\"Arial\" size=\"+2\" color=\"black\"><u><b>Easy Labelling of Epanet Data On Autocad Using </u></b><font face=\"Arial\" size=\"+3\" color=\"green\"><u><b>#</u></b><font face=\"Arial\" size=\"+2\" color=\"purple\"><u><b>Python</u></b><font face=\"Arial\" size=\"+3\" color=\"red\"><u><b>#</u></b><font face=\"Arial\" size=\"+2\" color=\"green\"><u><b>Pyautocad</u></b><font face=\"Arial\" size=\"+3\" color=\"orange\"><u><b>#</u></b><font face=\"Arial\" size=\"+2\" color=\"brown\"><u><b>Pandas</u></b>"
   ]
  },
  {
   "cell_type": "markdown",
   "metadata": {},
   "source": [
    "<font face=\"Arial\" size=\"+1.7\" color=\"blue\"><u><b>1.This code cell is the required package and library required to execute the task.</u><b>"
   ]
  },
  {
   "cell_type": "code",
   "execution_count": 2,
   "metadata": {},
   "outputs": [],
   "source": [
    "from pyautocad import Autocad, APoint\n",
    "import pandas as pd"
   ]
  },
  {
   "cell_type": "markdown",
   "metadata": {},
   "source": [
    " <font face=\"Arial\" size=\"+1.7\" color=\"blue\"><u><b>2.This code cell link active autocad modelspace for the drawing.</u><b>"
   ]
  },
  {
   "cell_type": "code",
   "execution_count": 3,
   "metadata": {},
   "outputs": [
    {
     "name": "stdout",
     "output_type": "stream",
     "text": [
      "Drawing1.dwg\n"
     ]
    }
   ],
   "source": [
    "acad=Autocad()     #create_if_not_exists=True\n",
    "print(acad.doc.Name)\n",
    "doc=acad.ActiveDocument\n",
    "ms=doc.ModelSpace\n"
   ]
  },
  {
   "cell_type": "markdown",
   "metadata": {},
   "source": [
    " <font face=\"Arial\" size=\"+1.7\" color=\"blue\"><u><b>3.This code cell will set layers details to be loaded on autocad modelspace.</u><b>"
   ]
  },
  {
   "cell_type": "code",
   "execution_count": 4,
   "metadata": {},
   "outputs": [],
   "source": [
    "layers=['node','linkid','text','tp','ln']\n",
    "colors = [20,92,2,250,170]\n",
    "Lt= ['HIDDEN','ACAD_ISO06W100','PHANTOM','DOT','ACAD_ISO05W100']"
   ]
  },
  {
   "cell_type": "markdown",
   "metadata": {},
   "source": [
    " <font face=\"Arial\" size=\"+1.7\" color=\"blue\"><u><b>4.This code cell will load layers on autocad modelspace.</u><b>"
   ]
  },
  {
   "cell_type": "code",
   "execution_count": 5,
   "metadata": {},
   "outputs": [],
   "source": [
    "for i in range(len(layers)):\n",
    "    Layer1=acad.ActiveDocument.Layers.Add(layers[i])\n",
    "    Layer1.color=colors[i]\n",
    "    acad.ActiveDocument.Linetypes.Load(Lt[i],\"acad.lin\")\n",
    "    Layer1.Linetype=Lt[i]\n",
    "    Layer1.Lineweight= 0.02"
   ]
  },
  {
   "cell_type": "markdown",
   "metadata": {},
   "source": [
    " <font face=\"Arial\" size=\"+1.7\" color=\"blue\"><u><b>5.Importing data from Epanet Report in Jupyter notebook .Here Pandas library is used.</u><b>"
   ]
  },
  {
   "cell_type": "code",
   "execution_count": 10,
   "metadata": {},
   "outputs": [],
   "source": [
    "file=pd.read_excel('epanet_output.xls',sheet_name='Nodal')\n",
    "file_lnk=pd.read_excel('epanet_output.xls',sheet_name='link_design')\n",
    "file_lnkana=pd.read_excel('epanet_output.xls',sheet_name='link_analysis')"
   ]
  },
  {
   "cell_type": "markdown",
   "metadata": {},
   "source": [
    " <font face=\"Arial\" size=\"+1.7\" color=\"blue\"><u><b>6.Displaying the data from imported excel file.</u><b>"
   ]
  },
  {
   "cell_type": "code",
   "execution_count": 11,
   "metadata": {},
   "outputs": [
    {
     "data": {
      "text/html": [
       "<div>\n",
       "<style scoped>\n",
       "    .dataframe tbody tr th:only-of-type {\n",
       "        vertical-align: middle;\n",
       "    }\n",
       "\n",
       "    .dataframe tbody tr th {\n",
       "        vertical-align: top;\n",
       "    }\n",
       "\n",
       "    .dataframe thead th {\n",
       "        text-align: right;\n",
       "    }\n",
       "</style>\n",
       "<table border=\"1\" class=\"dataframe\">\n",
       "  <thead>\n",
       "    <tr style=\"text-align: right;\">\n",
       "      <th></th>\n",
       "      <th>S.N.</th>\n",
       "      <th>X</th>\n",
       "      <th>Y</th>\n",
       "      <th>Z</th>\n",
       "      <th>Water Demand</th>\n",
       "      <th>Head</th>\n",
       "      <th>Pressure</th>\n",
       "      <th>Node1</th>\n",
       "    </tr>\n",
       "  </thead>\n",
       "  <tbody>\n",
       "    <tr>\n",
       "      <th>0</th>\n",
       "      <td>1</td>\n",
       "      <td>628936.242</td>\n",
       "      <td>3122051.412</td>\n",
       "      <td>1020.0</td>\n",
       "      <td>NaN</td>\n",
       "      <td>1020.00</td>\n",
       "      <td>0.00</td>\n",
       "      <td>R1</td>\n",
       "    </tr>\n",
       "    <tr>\n",
       "      <th>1</th>\n",
       "      <td>2</td>\n",
       "      <td>628919.225</td>\n",
       "      <td>3122005.987</td>\n",
       "      <td>1000.5</td>\n",
       "      <td>0.5</td>\n",
       "      <td>1002.06</td>\n",
       "      <td>1.56</td>\n",
       "      <td>N1</td>\n",
       "    </tr>\n",
       "    <tr>\n",
       "      <th>2</th>\n",
       "      <td>3</td>\n",
       "      <td>628811.000</td>\n",
       "      <td>3121714.600</td>\n",
       "      <td>928.8</td>\n",
       "      <td>0.3</td>\n",
       "      <td>1001.97</td>\n",
       "      <td>73.17</td>\n",
       "      <td>N2</td>\n",
       "    </tr>\n",
       "    <tr>\n",
       "      <th>3</th>\n",
       "      <td>4</td>\n",
       "      <td>628820.400</td>\n",
       "      <td>3121626.900</td>\n",
       "      <td>914.1</td>\n",
       "      <td>0.3</td>\n",
       "      <td>1001.87</td>\n",
       "      <td>87.77</td>\n",
       "      <td>N3</td>\n",
       "    </tr>\n",
       "    <tr>\n",
       "      <th>4</th>\n",
       "      <td>5</td>\n",
       "      <td>628784.300</td>\n",
       "      <td>3121545.300</td>\n",
       "      <td>904.5</td>\n",
       "      <td>0.3</td>\n",
       "      <td>1001.78</td>\n",
       "      <td>97.28</td>\n",
       "      <td>N4</td>\n",
       "    </tr>\n",
       "  </tbody>\n",
       "</table>\n",
       "</div>"
      ],
      "text/plain": [
       "   S.N.           X            Y       Z  Water Demand     Head  Pressure  \\\n",
       "0     1  628936.242  3122051.412  1020.0           NaN  1020.00      0.00   \n",
       "1     2  628919.225  3122005.987  1000.5           0.5  1002.06      1.56   \n",
       "2     3  628811.000  3121714.600   928.8           0.3  1001.97     73.17   \n",
       "3     4  628820.400  3121626.900   914.1           0.3  1001.87     87.77   \n",
       "4     5  628784.300  3121545.300   904.5           0.3  1001.78     97.28   \n",
       "\n",
       "  Node1  \n",
       "0    R1  \n",
       "1    N1  \n",
       "2    N2  \n",
       "3    N3  \n",
       "4    N4  "
      ]
     },
     "execution_count": 11,
     "metadata": {},
     "output_type": "execute_result"
    }
   ],
   "source": [
    "file.head()"
   ]
  },
  {
   "cell_type": "code",
   "execution_count": 12,
   "metadata": {},
   "outputs": [
    {
     "data": {
      "text/html": [
       "<div>\n",
       "<style scoped>\n",
       "    .dataframe tbody tr th:only-of-type {\n",
       "        vertical-align: middle;\n",
       "    }\n",
       "\n",
       "    .dataframe tbody tr th {\n",
       "        vertical-align: top;\n",
       "    }\n",
       "\n",
       "    .dataframe thead th {\n",
       "        text-align: right;\n",
       "    }\n",
       "</style>\n",
       "<table border=\"1\" class=\"dataframe\">\n",
       "  <thead>\n",
       "    <tr style=\"text-align: right;\">\n",
       "      <th></th>\n",
       "      <th>S.N.</th>\n",
       "      <th>X</th>\n",
       "      <th>Y</th>\n",
       "      <th>Z</th>\n",
       "      <th>Water Demand</th>\n",
       "      <th>linkID</th>\n",
       "      <th>Length</th>\n",
       "      <th>Diameter</th>\n",
       "      <th>Pressure Class</th>\n",
       "    </tr>\n",
       "  </thead>\n",
       "  <tbody>\n",
       "    <tr>\n",
       "      <th>0</th>\n",
       "      <td>1</td>\n",
       "      <td>628927.7335</td>\n",
       "      <td>3.122029e+06</td>\n",
       "      <td>1020.0</td>\n",
       "      <td>NaN</td>\n",
       "      <td>P1</td>\n",
       "      <td>48.51</td>\n",
       "      <td>50</td>\n",
       "      <td>6H</td>\n",
       "    </tr>\n",
       "    <tr>\n",
       "      <th>1</th>\n",
       "      <td>2</td>\n",
       "      <td>628865.1125</td>\n",
       "      <td>3.121860e+06</td>\n",
       "      <td>1000.5</td>\n",
       "      <td>0.5</td>\n",
       "      <td>P2</td>\n",
       "      <td>310.84</td>\n",
       "      <td>200</td>\n",
       "      <td>6H</td>\n",
       "    </tr>\n",
       "    <tr>\n",
       "      <th>2</th>\n",
       "      <td>3</td>\n",
       "      <td>628815.7000</td>\n",
       "      <td>3.121671e+06</td>\n",
       "      <td>928.8</td>\n",
       "      <td>0.3</td>\n",
       "      <td>P3</td>\n",
       "      <td>88.20</td>\n",
       "      <td>150</td>\n",
       "      <td>6H</td>\n",
       "    </tr>\n",
       "    <tr>\n",
       "      <th>3</th>\n",
       "      <td>4</td>\n",
       "      <td>628802.3500</td>\n",
       "      <td>3.121586e+06</td>\n",
       "      <td>914.1</td>\n",
       "      <td>0.3</td>\n",
       "      <td>P4</td>\n",
       "      <td>89.23</td>\n",
       "      <td>150</td>\n",
       "      <td>6H</td>\n",
       "    </tr>\n",
       "    <tr>\n",
       "      <th>4</th>\n",
       "      <td>5</td>\n",
       "      <td>628780.0500</td>\n",
       "      <td>3.121493e+06</td>\n",
       "      <td>904.5</td>\n",
       "      <td>0.3</td>\n",
       "      <td>P5</td>\n",
       "      <td>104.25</td>\n",
       "      <td>110</td>\n",
       "      <td>6H</td>\n",
       "    </tr>\n",
       "  </tbody>\n",
       "</table>\n",
       "</div>"
      ],
      "text/plain": [
       "   S.N.            X             Y       Z  Water Demand linkID  Length  \\\n",
       "0     1  628927.7335  3.122029e+06  1020.0           NaN     P1   48.51   \n",
       "1     2  628865.1125  3.121860e+06  1000.5           0.5     P2  310.84   \n",
       "2     3  628815.7000  3.121671e+06   928.8           0.3     P3   88.20   \n",
       "3     4  628802.3500  3.121586e+06   914.1           0.3     P4   89.23   \n",
       "4     5  628780.0500  3.121493e+06   904.5           0.3     P5  104.25   \n",
       "\n",
       "   Diameter Pressure Class  \n",
       "0        50             6H  \n",
       "1       200             6H  \n",
       "2       150             6H  \n",
       "3       150             6H  \n",
       "4       110             6H  "
      ]
     },
     "execution_count": 12,
     "metadata": {},
     "output_type": "execute_result"
    }
   ],
   "source": [
    "file_lnk.head()"
   ]
  },
  {
   "cell_type": "code",
   "execution_count": 13,
   "metadata": {},
   "outputs": [
    {
     "data": {
      "text/html": [
       "<div>\n",
       "<style scoped>\n",
       "    .dataframe tbody tr th:only-of-type {\n",
       "        vertical-align: middle;\n",
       "    }\n",
       "\n",
       "    .dataframe tbody tr th {\n",
       "        vertical-align: top;\n",
       "    }\n",
       "\n",
       "    .dataframe thead th {\n",
       "        text-align: right;\n",
       "    }\n",
       "</style>\n",
       "<table border=\"1\" class=\"dataframe\">\n",
       "  <thead>\n",
       "    <tr style=\"text-align: right;\">\n",
       "      <th></th>\n",
       "      <th>S.N.</th>\n",
       "      <th>X</th>\n",
       "      <th>Y</th>\n",
       "      <th>Z</th>\n",
       "      <th>Pipe ID</th>\n",
       "      <th>flow</th>\n",
       "      <th>Velocity</th>\n",
       "      <th>Headloss</th>\n",
       "    </tr>\n",
       "  </thead>\n",
       "  <tbody>\n",
       "    <tr>\n",
       "      <th>0</th>\n",
       "      <td>1</td>\n",
       "      <td>628927.7335</td>\n",
       "      <td>3.122029e+06</td>\n",
       "      <td>1020.0</td>\n",
       "      <td>P1</td>\n",
       "      <td>7.05</td>\n",
       "      <td>0.22</td>\n",
       "      <td>0.30</td>\n",
       "    </tr>\n",
       "    <tr>\n",
       "      <th>1</th>\n",
       "      <td>2</td>\n",
       "      <td>628865.1125</td>\n",
       "      <td>3.121860e+06</td>\n",
       "      <td>1000.5</td>\n",
       "      <td>P2</td>\n",
       "      <td>6.75</td>\n",
       "      <td>0.38</td>\n",
       "      <td>1.13</td>\n",
       "    </tr>\n",
       "    <tr>\n",
       "      <th>2</th>\n",
       "      <td>3</td>\n",
       "      <td>628815.7000</td>\n",
       "      <td>3.121671e+06</td>\n",
       "      <td>928.8</td>\n",
       "      <td>P3</td>\n",
       "      <td>6.45</td>\n",
       "      <td>0.36</td>\n",
       "      <td>1.04</td>\n",
       "    </tr>\n",
       "    <tr>\n",
       "      <th>3</th>\n",
       "      <td>4</td>\n",
       "      <td>628802.3500</td>\n",
       "      <td>3.121586e+06</td>\n",
       "      <td>914.1</td>\n",
       "      <td>P4</td>\n",
       "      <td>6.15</td>\n",
       "      <td>0.65</td>\n",
       "      <td>4.44</td>\n",
       "    </tr>\n",
       "    <tr>\n",
       "      <th>4</th>\n",
       "      <td>5</td>\n",
       "      <td>628780.0500</td>\n",
       "      <td>3.121493e+06</td>\n",
       "      <td>904.5</td>\n",
       "      <td>P5</td>\n",
       "      <td>5.85</td>\n",
       "      <td>0.62</td>\n",
       "      <td>4.04</td>\n",
       "    </tr>\n",
       "  </tbody>\n",
       "</table>\n",
       "</div>"
      ],
      "text/plain": [
       "   S.N.            X             Y       Z Pipe ID  flow  Velocity  Headloss\n",
       "0     1  628927.7335  3.122029e+06  1020.0      P1  7.05      0.22      0.30\n",
       "1     2  628865.1125  3.121860e+06  1000.5      P2  6.75      0.38      1.13\n",
       "2     3  628815.7000  3.121671e+06   928.8      P3  6.45      0.36      1.04\n",
       "3     4  628802.3500  3.121586e+06   914.1      P4  6.15      0.65      4.44\n",
       "4     5  628780.0500  3.121493e+06   904.5      P5  5.85      0.62      4.04"
      ]
     },
     "execution_count": 13,
     "metadata": {},
     "output_type": "execute_result"
    }
   ],
   "source": [
    "file_lnkana.head()"
   ]
  },
  {
   "cell_type": "markdown",
   "metadata": {},
   "source": [
    " <font face=\"Arial\" size=\"+1.7\" color=\"blue\"><u><b>7.Finding number of Nodes.</u><b>"
   ]
  },
  {
   "cell_type": "code",
   "execution_count": 14,
   "metadata": {},
   "outputs": [
    {
     "data": {
      "text/plain": [
       "19"
      ]
     },
     "execution_count": 14,
     "metadata": {},
     "output_type": "execute_result"
    }
   ],
   "source": [
    "n=file['S.N.'].count()\n",
    "n"
   ]
  },
  {
   "cell_type": "markdown",
   "metadata": {},
   "source": [
    " <font face=\"Arial\" size=\"+1.7\" color=\"blue\"><u><b>8.Finding number of links.</u><b>"
   ]
  },
  {
   "cell_type": "code",
   "execution_count": 15,
   "metadata": {},
   "outputs": [
    {
     "data": {
      "text/plain": [
       "18"
      ]
     },
     "execution_count": 15,
     "metadata": {},
     "output_type": "execute_result"
    }
   ],
   "source": [
    "n1=file_lnk['S.N.'].count()\n",
    "n1"
   ]
  },
  {
   "cell_type": "code",
   "execution_count": 16,
   "metadata": {},
   "outputs": [
    {
     "data": {
      "text/plain": [
       "18"
      ]
     },
     "execution_count": 16,
     "metadata": {},
     "output_type": "execute_result"
    }
   ],
   "source": [
    "n2=file_lnkana['S.N.'].count()\n",
    "n2"
   ]
  },
  {
   "cell_type": "markdown",
   "metadata": {},
   "source": [
    " <font face=\"Arial\" size=\"+1.7\" color=\"blue\"><u><b>9.This code cell will draw points(Nodes) on autocad modelspace and also list the points for connecting it with lines.</u><b>"
   ]
  },
  {
   "cell_type": "code",
   "execution_count": 20,
   "metadata": {},
   "outputs": [],
   "source": [
    "points_list=[]\n",
    "for i in range(n):\n",
    "    points= APoint(file['X'][i],file['Y'][i],file['Z'][i])\n",
    "    #print(\"Points no {} : x = {} , y = {} \".format(i+1,points[0],points[1]))\n",
    "    #print(points)\n",
    "    # \n",
    "    InsertionPnt=points\n",
    "    pointblock=acad.model.InsertBlock(InsertionPnt,'point_block',7.5,7.5,7.5,0)\n",
    "    pointblock.layer = 'node'\n",
    "    points_list.append(points)\n",
    "    \n",
    "    points_loc=APoint(points[0]+8,points[1]+3)\n",
    "    text_length=acad.model.AddText('%s'%(file['Node1'][i]),points_loc,5)\n",
    "    text_length.layer='node'\n",
    "    #text_data=acad.model.AddText('   (water demand = %s lps)'%(file['Water Demand'][i]),points_loc,2)\n",
    "    #text_data=acad.model.AddText('   (demand = %s lps,Residual Pressure = %s m)'%(file['Water Demand'][i],file['Residual Pressure'][i]),points_loc,5)\n",
    "    #text_data.layer='text'"
   ]
  },
  {
   "cell_type": "markdown",
   "metadata": {},
   "source": [
    " <font face=\"Arial\" size=\"+1.7\" color=\"blue\"><u><b>10.This code cell will label link design data on autocad modelspace at midpoint of every link respectively.</u><b>"
   ]
  },
  {
   "cell_type": "code",
   "execution_count": 21,
   "metadata": {},
   "outputs": [],
   "source": [
    "points_list1=[]\n",
    "for i in range(n1):\n",
    "    points= APoint(file_lnk['X'][i],file_lnk['Y'][i],file_lnk['Z'][i])\n",
    "    #print(\"Points no {} : x = {} , y = {} \".format(i+1,points[0],points[1]))\n",
    "    #print(points)\n",
    "\n",
    "    points_loc=APoint(points[0]+25,points[1])\n",
    "    text_length=acad.model.AddText('%s'%(file_lnk['linkID'][i]),points_loc,5)\n",
    "    text_length.layer='linkid'\n",
    "    text_length=acad.model.AddText('       (%s m-DN %s mm-%s)'%(file_lnk['Length'][i],file_lnk['Diameter'][i],file_lnk['Pressure Class'][i]),points_loc,3)\n",
    "    text_length.layer='text'"
   ]
  },
  {
   "cell_type": "markdown",
   "metadata": {},
   "source": [
    " <font face=\"Arial\" size=\"+1.7\" color=\"blue\"><u><b>11.This code cell will label link analysis data on autocad modelspace at midpoint of every link respectively.</u><b>"
   ]
  },
  {
   "cell_type": "code",
   "execution_count": 22,
   "metadata": {},
   "outputs": [],
   "source": [
    "points_list2=[]\n",
    "for i in range(n2):\n",
    "    points= APoint(file_lnkana['X'][i],file_lnkana['Y'][i],file_lnkana['Z'][i])\n",
    "    #print(\"Points no {} : x = {} , y = {} \".format(i+1,points[0],points[1]))\n",
    "    #print(points)\n",
    " \n",
    "    points_loc=APoint(points[0]+20,points[1]-10)\n",
    "    text_length=acad.model.AddText('       (Q = %s lps v = %s m/s h_loss = %s m )'%(file_lnkana['flow'][i],file_lnkana['Velocity'][i],file_lnkana['Headloss'][i]),points_loc,3)\n",
    "    text_length.layer='text'"
   ]
  },
  {
   "cell_type": "markdown",
   "metadata": {},
   "source": [
    " <font face=\"Arial\" size=\"+1.7\" color=\"blue\"><u><b>12.This code cell will draw lines (link) between points(nodes) on autocad modelspace.</u><b>"
   ]
  },
  {
   "cell_type": "code",
   "execution_count": 23,
   "metadata": {},
   "outputs": [],
   "source": [
    "for i in range(n):\n",
    "    if i< n-1:\n",
    "        line1=acad.model.AddLine(points_list[i],points_list[i+1])\n",
    "        line1.layer='ln'\n",
    "    else:\n",
    "        break"
   ]
  },
  {
   "cell_type": "code",
   "execution_count": null,
   "metadata": {},
   "outputs": [],
   "source": []
  }
 ],
 "metadata": {
  "kernelspec": {
   "display_name": "Python 3",
   "language": "python",
   "name": "python3"
  },
  "language_info": {
   "codemirror_mode": {
    "name": "ipython",
    "version": 3
   },
   "file_extension": ".py",
   "mimetype": "text/x-python",
   "name": "python",
   "nbconvert_exporter": "python",
   "pygments_lexer": "ipython3",
   "version": "3.7.6"
  }
 },
 "nbformat": 4,
 "nbformat_minor": 4
}
